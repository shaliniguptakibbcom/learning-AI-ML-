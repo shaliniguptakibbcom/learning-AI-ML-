{
 "cells": [
  {
   "cell_type": "code",
   "execution_count": 1,
   "metadata": {},
   "outputs": [],
   "source": [
    "import numpy as np\n",
    "import pandas as pd\n",
    "import tensorflow as tf\n",
    "from tensorflow import keras"
   ]
  },
  {
   "cell_type": "code",
   "execution_count": 3,
   "metadata": {},
   "outputs": [],
   "source": [
    "from sklearn.datasets import load_iris\n",
    "from sklearn.model_selection import train_test_split"
   ]
  },
  {
   "cell_type": "code",
   "execution_count": 5,
   "metadata": {},
   "outputs": [],
   "source": [
    "import matplotlib\n",
    "import matplotlib.pyplot as plt"
   ]
  },
  {
   "cell_type": "code",
   "execution_count": 11,
   "metadata": {},
   "outputs": [],
   "source": [
    "iris = load_iris()"
   ]
  },
  {
   "cell_type": "code",
   "execution_count": 14,
   "metadata": {},
   "outputs": [],
   "source": [
    "x = iris.data\n",
    "y = iris.target"
   ]
  },
  {
   "cell_type": "code",
   "execution_count": 15,
   "metadata": {},
   "outputs": [],
   "source": [
    "X_train, X_test, y_train, y_test = train_test_split(x, y, test_size=.3, random_state=42)"
   ]
  },
  {
   "cell_type": "code",
   "execution_count": 21,
   "metadata": {},
   "outputs": [],
   "source": [
    "keras.backend.clear_session()\n",
    "np.random.seed(42)\n",
    "tf.random.set_seed(42)"
   ]
  },
  {
   "cell_type": "code",
   "execution_count": 23,
   "metadata": {},
   "outputs": [],
   "source": [
    "model = keras.models.Sequential([\n",
    "    keras.layers.Dense(300, input_shape=(4,), activation=\"relu\"),\n",
    "    keras.layers.Dropout(rate=0.2),\n",
    "    keras.layers.Dense(100, activation=\"relu\", kernel_initializer=\"he_normal\"),\n",
    "    keras.layers.Dropout(rate=0.2),\n",
    "    keras.layers.Dense(500, activation=\"relu\", kernel_initializer=\"he_normal\"),\n",
    "    keras.layers.Dropout(rate=0.2),\n",
    "    keras.layers.Dense(3, activation=\"softmax\")\n",
    "])"
   ]
  },
  {
   "cell_type": "code",
   "execution_count": 27,
   "metadata": {},
   "outputs": [
    {
     "ename": "NameError",
     "evalue": "name 'train_size' is not defined",
     "output_type": "error",
     "traceback": [
      "\u001b[0;31m---------------------------------------------------------------------------\u001b[0m",
      "\u001b[0;31mNameError\u001b[0m                                 Traceback (most recent call last)",
      "\u001b[0;32m<ipython-input-27-fe97a576747e>\u001b[0m in \u001b[0;36m<module>\u001b[0;34m\u001b[0m\n\u001b[0;32m----> 1\u001b[0;31m print(train_size\n\u001b[0m\u001b[1;32m      2\u001b[0m      )\n",
      "\u001b[0;31mNameError\u001b[0m: name 'train_size' is not defined"
     ]
    }
   ],
   "source": []
  },
  {
   "cell_type": "code",
   "execution_count": 31,
   "metadata": {},
   "outputs": [],
   "source": [
    "model.compile(optimizer=keras.optimizers.Adam(lr=0.001), loss= tf.keras.losses.SparseCategoricalCrossentropy(), metrics=[\"accuracy\"])"
   ]
  },
  {
   "cell_type": "code",
   "execution_count": 35,
   "metadata": {},
   "outputs": [
    {
     "name": "stdout",
     "output_type": "stream",
     "text": [
      "Train on 105 samples\n",
      "Epoch 1/100\n",
      "105/105 [==============================] - 1s 7ms/sample - loss: 1.0195 - accuracy: 0.4667\n",
      "Epoch 2/100\n",
      "105/105 [==============================] - 0s 535us/sample - loss: 0.7295 - accuracy: 0.6381\n",
      "Epoch 3/100\n",
      "105/105 [==============================] - 0s 529us/sample - loss: 0.5050 - accuracy: 0.7524\n",
      "Epoch 4/100\n",
      "105/105 [==============================] - 0s 520us/sample - loss: 0.4868 - accuracy: 0.7619\n",
      "Epoch 5/100\n",
      "105/105 [==============================] - 0s 533us/sample - loss: 0.4770 - accuracy: 0.7524\n",
      "Epoch 6/100\n",
      "105/105 [==============================] - 0s 524us/sample - loss: 0.3843 - accuracy: 0.8000\n",
      "Epoch 7/100\n",
      "105/105 [==============================] - 0s 557us/sample - loss: 0.3375 - accuracy: 0.8190\n",
      "Epoch 8/100\n",
      "105/105 [==============================] - 0s 523us/sample - loss: 0.3120 - accuracy: 0.8667\n",
      "Epoch 9/100\n",
      "105/105 [==============================] - 0s 518us/sample - loss: 0.2855 - accuracy: 0.8762\n",
      "Epoch 10/100\n",
      "105/105 [==============================] - 0s 600us/sample - loss: 0.2096 - accuracy: 0.9143\n",
      "Epoch 11/100\n",
      "105/105 [==============================] - 0s 551us/sample - loss: 0.2216 - accuracy: 0.9048\n",
      "Epoch 12/100\n",
      "105/105 [==============================] - 0s 570us/sample - loss: 0.2773 - accuracy: 0.8571\n",
      "Epoch 13/100\n",
      "105/105 [==============================] - 0s 507us/sample - loss: 0.1221 - accuracy: 0.9524\n",
      "Epoch 14/100\n",
      "105/105 [==============================] - 0s 501us/sample - loss: 0.2195 - accuracy: 0.9238\n",
      "Epoch 15/100\n",
      "105/105 [==============================] - 0s 512us/sample - loss: 0.1517 - accuracy: 0.9619\n",
      "Epoch 16/100\n",
      "105/105 [==============================] - 0s 506us/sample - loss: 0.2494 - accuracy: 0.9143\n",
      "Epoch 17/100\n",
      "105/105 [==============================] - 0s 526us/sample - loss: 0.1386 - accuracy: 0.9524\n",
      "Epoch 18/100\n",
      "105/105 [==============================] - 0s 517us/sample - loss: 0.1304 - accuracy: 0.9524\n",
      "Epoch 19/100\n",
      "105/105 [==============================] - 0s 505us/sample - loss: 0.2503 - accuracy: 0.8762\n",
      "Epoch 20/100\n",
      "105/105 [==============================] - 0s 507us/sample - loss: 0.2256 - accuracy: 0.8952\n",
      "Epoch 21/100\n",
      "105/105 [==============================] - 0s 510us/sample - loss: 0.2046 - accuracy: 0.9143\n",
      "Epoch 22/100\n",
      "105/105 [==============================] - 0s 530us/sample - loss: 0.1510 - accuracy: 0.9143\n",
      "Epoch 23/100\n",
      "105/105 [==============================] - 0s 531us/sample - loss: 0.1496 - accuracy: 0.9429\n",
      "Epoch 24/100\n",
      "105/105 [==============================] - 0s 583us/sample - loss: 0.1176 - accuracy: 0.9524\n",
      "Epoch 25/100\n",
      "105/105 [==============================] - 0s 567us/sample - loss: 0.1465 - accuracy: 0.9429\n",
      "Epoch 26/100\n",
      "105/105 [==============================] - 0s 592us/sample - loss: 0.1713 - accuracy: 0.9524\n",
      "Epoch 27/100\n",
      "105/105 [==============================] - 0s 557us/sample - loss: 0.1130 - accuracy: 0.9714\n",
      "Epoch 28/100\n",
      "105/105 [==============================] - 0s 537us/sample - loss: 0.1897 - accuracy: 0.9143\n",
      "Epoch 29/100\n",
      "105/105 [==============================] - 0s 512us/sample - loss: 0.2354 - accuracy: 0.9143\n",
      "Epoch 30/100\n",
      "105/105 [==============================] - 0s 554us/sample - loss: 0.1353 - accuracy: 0.9429\n",
      "Epoch 31/100\n",
      "105/105 [==============================] - 0s 516us/sample - loss: 0.1262 - accuracy: 0.9333\n",
      "Epoch 32/100\n",
      "105/105 [==============================] - 0s 505us/sample - loss: 0.1721 - accuracy: 0.9429\n",
      "Epoch 33/100\n",
      "105/105 [==============================] - 0s 561us/sample - loss: 0.1013 - accuracy: 0.9714\n",
      "Epoch 34/100\n",
      "105/105 [==============================] - 0s 517us/sample - loss: 0.0991 - accuracy: 0.9714\n",
      "Epoch 35/100\n",
      "105/105 [==============================] - 0s 576us/sample - loss: 0.1184 - accuracy: 0.9524\n",
      "Epoch 36/100\n",
      "105/105 [==============================] - 0s 517us/sample - loss: 0.1680 - accuracy: 0.9143\n",
      "Epoch 37/100\n",
      "105/105 [==============================] - 0s 551us/sample - loss: 0.1766 - accuracy: 0.9048\n",
      "Epoch 38/100\n",
      "105/105 [==============================] - 0s 535us/sample - loss: 0.1327 - accuracy: 0.9619\n",
      "Epoch 39/100\n",
      "105/105 [==============================] - 0s 558us/sample - loss: 0.1760 - accuracy: 0.9238\n",
      "Epoch 40/100\n",
      "105/105 [==============================] - 0s 567us/sample - loss: 0.1221 - accuracy: 0.9714\n",
      "Epoch 41/100\n",
      "105/105 [==============================] - 0s 559us/sample - loss: 0.1460 - accuracy: 0.9333\n",
      "Epoch 42/100\n",
      "105/105 [==============================] - 0s 524us/sample - loss: 0.0980 - accuracy: 0.9619\n",
      "Epoch 43/100\n",
      "105/105 [==============================] - 0s 535us/sample - loss: 0.1104 - accuracy: 0.9524\n",
      "Epoch 44/100\n",
      "105/105 [==============================] - 0s 577us/sample - loss: 0.1403 - accuracy: 0.9429\n",
      "Epoch 45/100\n",
      "105/105 [==============================] - 0s 587us/sample - loss: 0.0907 - accuracy: 0.9524\n",
      "Epoch 46/100\n",
      "105/105 [==============================] - 0s 579us/sample - loss: 0.1962 - accuracy: 0.9333\n",
      "Epoch 47/100\n",
      "105/105 [==============================] - 0s 637us/sample - loss: 0.1464 - accuracy: 0.9429\n",
      "Epoch 48/100\n",
      "105/105 [==============================] - 0s 584us/sample - loss: 0.1478 - accuracy: 0.9524\n",
      "Epoch 49/100\n",
      "105/105 [==============================] - 0s 584us/sample - loss: 0.1525 - accuracy: 0.9524\n",
      "Epoch 50/100\n",
      "105/105 [==============================] - 0s 583us/sample - loss: 0.1110 - accuracy: 0.9619\n",
      "Epoch 51/100\n",
      "105/105 [==============================] - 0s 597us/sample - loss: 0.1146 - accuracy: 0.9429\n",
      "Epoch 52/100\n",
      "105/105 [==============================] - 0s 597us/sample - loss: 0.1003 - accuracy: 0.9429\n",
      "Epoch 53/100\n",
      "105/105 [==============================] - 0s 585us/sample - loss: 0.0700 - accuracy: 0.9619\n",
      "Epoch 54/100\n",
      "105/105 [==============================] - 0s 655us/sample - loss: 0.1999 - accuracy: 0.9333\n",
      "Epoch 55/100\n",
      "105/105 [==============================] - 0s 603us/sample - loss: 0.1245 - accuracy: 0.9714\n",
      "Epoch 56/100\n",
      "105/105 [==============================] - 0s 629us/sample - loss: 0.1591 - accuracy: 0.9429\n",
      "Epoch 57/100\n",
      "105/105 [==============================] - 0s 623us/sample - loss: 0.1418 - accuracy: 0.9524\n",
      "Epoch 58/100\n",
      "105/105 [==============================] - 0s 652us/sample - loss: 0.0900 - accuracy: 0.9714\n",
      "Epoch 59/100\n",
      "105/105 [==============================] - 0s 651us/sample - loss: 0.1732 - accuracy: 0.9048\n",
      "Epoch 60/100\n",
      "105/105 [==============================] - 0s 646us/sample - loss: 0.1541 - accuracy: 0.9524\n",
      "Epoch 61/100\n",
      "105/105 [==============================] - 0s 619us/sample - loss: 0.1750 - accuracy: 0.9143\n",
      "Epoch 62/100\n",
      "105/105 [==============================] - 0s 625us/sample - loss: 0.1427 - accuracy: 0.9429\n",
      "Epoch 63/100\n",
      "105/105 [==============================] - 0s 598us/sample - loss: 0.1192 - accuracy: 0.9429\n",
      "Epoch 64/100\n",
      "105/105 [==============================] - 0s 633us/sample - loss: 0.1216 - accuracy: 0.9619\n",
      "Epoch 65/100\n",
      "105/105 [==============================] - 0s 653us/sample - loss: 0.0859 - accuracy: 0.9714\n",
      "Epoch 66/100\n",
      "105/105 [==============================] - 0s 641us/sample - loss: 0.1901 - accuracy: 0.9143\n",
      "Epoch 67/100\n",
      "105/105 [==============================] - 0s 628us/sample - loss: 0.2084 - accuracy: 0.9238\n",
      "Epoch 68/100\n",
      "105/105 [==============================] - 0s 663us/sample - loss: 0.1912 - accuracy: 0.9238\n",
      "Epoch 69/100\n",
      "105/105 [==============================] - 0s 678us/sample - loss: 0.1185 - accuracy: 0.9524\n",
      "Epoch 70/100\n",
      "105/105 [==============================] - 0s 628us/sample - loss: 0.0961 - accuracy: 0.9714\n",
      "Epoch 71/100\n",
      "105/105 [==============================] - 0s 658us/sample - loss: 0.0676 - accuracy: 0.9714\n",
      "Epoch 72/100\n",
      "105/105 [==============================] - 0s 646us/sample - loss: 0.0897 - accuracy: 0.9619\n",
      "Epoch 73/100\n",
      "105/105 [==============================] - 0s 592us/sample - loss: 0.1050 - accuracy: 0.9524\n",
      "Epoch 74/100\n",
      "105/105 [==============================] - 0s 619us/sample - loss: 0.0984 - accuracy: 0.9714\n",
      "Epoch 75/100\n",
      "105/105 [==============================] - 0s 633us/sample - loss: 0.0844 - accuracy: 0.9810\n",
      "Epoch 76/100\n",
      "105/105 [==============================] - 0s 603us/sample - loss: 0.1092 - accuracy: 0.9524\n",
      "Epoch 77/100\n",
      "105/105 [==============================] - 0s 622us/sample - loss: 0.1214 - accuracy: 0.9619\n",
      "Epoch 78/100\n"
     ]
    },
    {
     "name": "stdout",
     "output_type": "stream",
     "text": [
      "105/105 [==============================] - 0s 661us/sample - loss: 0.0856 - accuracy: 0.9810\n",
      "Epoch 79/100\n",
      "105/105 [==============================] - 0s 737us/sample - loss: 0.0746 - accuracy: 0.9714\n",
      "Epoch 80/100\n",
      "105/105 [==============================] - 0s 717us/sample - loss: 0.1733 - accuracy: 0.9238\n",
      "Epoch 81/100\n",
      "105/105 [==============================] - 0s 753us/sample - loss: 0.0835 - accuracy: 0.9619\n",
      "Epoch 82/100\n",
      "105/105 [==============================] - 0s 704us/sample - loss: 0.0971 - accuracy: 0.9619\n",
      "Epoch 83/100\n",
      "105/105 [==============================] - 0s 727us/sample - loss: 0.1080 - accuracy: 0.9429\n",
      "Epoch 84/100\n",
      "105/105 [==============================] - 0s 709us/sample - loss: 0.0980 - accuracy: 0.9524\n",
      "Epoch 85/100\n",
      "105/105 [==============================] - 0s 702us/sample - loss: 0.1408 - accuracy: 0.9429\n",
      "Epoch 86/100\n",
      "105/105 [==============================] - 0s 763us/sample - loss: 0.1391 - accuracy: 0.9619\n",
      "Epoch 87/100\n",
      "105/105 [==============================] - 0s 773us/sample - loss: 0.1281 - accuracy: 0.9619\n",
      "Epoch 88/100\n",
      "105/105 [==============================] - 0s 742us/sample - loss: 0.1159 - accuracy: 0.9429\n",
      "Epoch 89/100\n",
      "105/105 [==============================] - 0s 701us/sample - loss: 0.0831 - accuracy: 0.9714\n",
      "Epoch 90/100\n",
      "105/105 [==============================] - 0s 724us/sample - loss: 0.1112 - accuracy: 0.9714\n",
      "Epoch 91/100\n",
      "105/105 [==============================] - 0s 738us/sample - loss: 0.1119 - accuracy: 0.9429\n",
      "Epoch 92/100\n",
      "105/105 [==============================] - 0s 674us/sample - loss: 0.1002 - accuracy: 0.9524\n",
      "Epoch 93/100\n",
      "105/105 [==============================] - 0s 698us/sample - loss: 0.0752 - accuracy: 0.9619\n",
      "Epoch 94/100\n",
      "105/105 [==============================] - 0s 665us/sample - loss: 0.1149 - accuracy: 0.9524\n",
      "Epoch 95/100\n",
      "105/105 [==============================] - 0s 617us/sample - loss: 0.1513 - accuracy: 0.9524\n",
      "Epoch 96/100\n",
      "105/105 [==============================] - 0s 656us/sample - loss: 0.1230 - accuracy: 0.9524\n",
      "Epoch 97/100\n",
      "105/105 [==============================] - 0s 607us/sample - loss: 0.0981 - accuracy: 0.9524\n",
      "Epoch 98/100\n",
      "105/105 [==============================] - 0s 667us/sample - loss: 0.0960 - accuracy: 0.9619\n",
      "Epoch 99/100\n",
      "105/105 [==============================] - 0s 601us/sample - loss: 0.1215 - accuracy: 0.9714\n",
      "Epoch 100/100\n",
      "105/105 [==============================] - 0s 566us/sample - loss: 0.0946 - accuracy: 0.9619\n"
     ]
    }
   ],
   "source": [
    "history = model.fit(X_train, y_train, batch_size=5, epochs=100)"
   ]
  },
  {
   "cell_type": "code",
   "execution_count": 36,
   "metadata": {},
   "outputs": [
    {
     "data": {
      "image/png": "[encoded data removed]",
      "text/plain": [
       "<Figure size 576x360 with 1 Axes>"
      ]
     },
     "metadata": {
      "needs_background": "light"
     },
     "output_type": "display_data"
    }
   ],
   "source": [
    "pd.DataFrame(history.history).plot(figsize=(8, 5))\n",
    "plt.grid(True)\n",
    "plt.gca().set_ylim(0, 1)\n",
    "plt.show()"
   ]
  },
  {
   "cell_type": "code",
   "execution_count": 40,
   "metadata": {},
   "outputs": [
    {
     "name": "stdout",
     "output_type": "stream",
     "text": [
      "45/45 [==============================] - 0s 3ms/sample - loss: 0.0386 - accuracy: 0.9778\n"
     ]
    }
   ],
   "source": [
    "results = model.evaluate(X_test, y_test)"
   ]
  },
  {
   "cell_type": "code",
   "execution_count": 41,
   "metadata": {},
   "outputs": [
    {
     "name": "stdout",
     "output_type": "stream",
     "text": [
      "Final test set loss: 0.038597\n",
      "Final test set accuracy: 0.977778\n"
     ]
    }
   ],
   "source": [
    "print('Final test set loss: {:4f}'.format(results[0]))\n",
    "print('Final test set accuracy: {:4f}'.format(results[1]))"
   ]
  },
  {
   "cell_type": "code",
   "execution_count": 45,
   "metadata": {},
   "outputs": [],
   "source": [
    "class_names = iris.target_names"
   ]
  },
  {
   "cell_type": "code",
   "execution_count": 46,
   "metadata": {},
   "outputs": [],
   "source": [
    "X_new = X_test[:5]"
   ]
  },
  {
   "cell_type": "code",
   "execution_count": 47,
   "metadata": {},
   "outputs": [
    {
     "name": "stdout",
     "output_type": "stream",
     "text": [
      "['versicolor' 'setosa' 'virginica' 'versicolor' 'versicolor']\n"
     ]
    }
   ],
   "source": [
    "y_pred = model.predict_classes(X_new)\n",
    "print(np.array(class_names)[y_pred])"
   ]
  },
  {
   "cell_type": "code",
   "execution_count": 48,
   "metadata": {},
   "outputs": [
    {
     "name": "stdout",
     "output_type": "stream",
     "text": [
      "['versicolor' 'setosa' 'virginica' 'versicolor' 'versicolor']\n"
     ]
    }
   ],
   "source": [
    "y_new = y_test[:5]\n",
    "print(np.array(class_names)[y_new])"
   ]
  },
  {
   "cell_type": "code",
   "execution_count": null,
   "metadata": {},
   "outputs": [],
   "source": []
  }
 ],
 "metadata": {
  "kernelspec": {
   "display_name": "tensorflow2",
   "language": "python",
   "name": "tensorflow2"
  },
  "language_info": {
   "codemirror_mode": {
    "name": "ipython",
    "version": 3
   },
   "file_extension": ".py",
   "mimetype": "text/x-python",
   "name": "python",
   "nbconvert_exporter": "python",
   "pygments_lexer": "ipython3",
   "version": "3.6.8"
  },
  "toc": {
   "base_numbering": 1,
   "nav_menu": {},
   "number_sections": true,
   "sideBar": true,
   "skip_h1_title": false,
   "title_cell": "Table of Contents",
   "title_sidebar": "Contents",
   "toc_cell": false,
   "toc_position": {},
   "toc_section_display": true,
   "toc_window_display": false
  }
 },
 "nbformat": 4,
 "nbformat_minor": 2
}
