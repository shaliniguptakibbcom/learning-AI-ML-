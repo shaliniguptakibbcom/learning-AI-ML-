{
 "cells": [
  {
   "cell_type": "code",
   "execution_count": 1,
   "metadata": {},
   "outputs": [],
   "source": [
    "import numpy as np\n",
    "import matplotlib.pyplot as plt\n",
    "import h5py"
   ]
  },
  {
   "cell_type": "code",
   "execution_count": 6,
   "metadata": {},
   "outputs": [
    {
     "name": "stdout",
     "output_type": "stream",
     "text": [
      "File format of train_dataset: <HDF5 file \"train_catvnoncat.h5\" (mode r)>\n",
      "File format of test_dataset: <HDF5 file \"test_catvnoncat.h5\" (mode r)>\n"
     ]
    }
   ],
   "source": [
    "train_dataset = h5py.File('/cxldata/datasets/project/cat-non-cat/train_catvnoncat.h5', \"r\")\n",
    "\n",
    "test_dataset = h5py.File('/cxldata/datasets/project/cat-non-cat/test_catvnoncat.h5', \"r\")\n",
    "\n",
    "print(\"File format of train_dataset:\",train_dataset)\n",
    "print(\"File format of test_dataset:\",test_dataset)"
   ]
  },
  {
   "cell_type": "code",
   "execution_count": 7,
   "metadata": {},
   "outputs": [],
   "source": [
    "train_set_x_orig = np.array(train_dataset[\"train_set_x\"][:]) # train set features\n",
    "train_set_y_orig = np.array(train_dataset[\"train_set_y\"][:]) # train set labels\n",
    "\n",
    "test_set_x_orig = np.array(test_dataset[\"test_set_x\"][:]) # test set features\n",
    "test_set_y_orig = np.array(test_dataset[\"test_set_y\"][:]) # test set labels"
   ]
  },
  {
   "cell_type": "code",
   "execution_count": 26,
   "metadata": {},
   "outputs": [
    {
     "name": "stdout",
     "output_type": "stream",
     "text": [
      "[1 2 3 4]\n"
     ]
    }
   ],
   "source": [
    "arr = np.arange(1,5)\n",
    "print(arr)"
   ]
  },
  {
   "cell_type": "code",
   "execution_count": 28,
   "metadata": {},
   "outputs": [],
   "source": [
    "arr = arr.reshape(1,2,2)"
   ]
  },
  {
   "cell_type": "code",
   "execution_count": 29,
   "metadata": {},
   "outputs": [
    {
     "name": "stdout",
     "output_type": "stream",
     "text": [
      "[[[1 2]\n",
      "  [3 4]]]\n"
     ]
    }
   ],
   "source": [
    "print(arr)"
   ]
  },
  {
   "cell_type": "code",
   "execution_count": 30,
   "metadata": {},
   "outputs": [
    {
     "name": "stdout",
     "output_type": "stream",
     "text": [
      "[[1 2]\n",
      " [3 4]]\n",
      "(2, 2)\n"
     ]
    }
   ],
   "source": [
    "arr_squeezed = np.squeeze(arr)\n",
    "print(arr_squeezed)\n",
    "print(arr_squeezed.shape)\n"
   ]
  },
  {
   "cell_type": "code",
   "execution_count": 31,
   "metadata": {},
   "outputs": [
    {
     "name": "stdout",
     "output_type": "stream",
     "text": [
      "Validation data shape:  (25, 64, 64, 3)\n",
      "Test data shape:  (25, 64, 64, 3)\n"
     ]
    }
   ],
   "source": [
    "validation_x = test_set_x_orig[:25]\n",
    "validation_y = test_set_y_orig[:25]\n",
    "print(\"Validation data shape: \",validation_x.shape)\n",
    "\n",
    "test_set_x =test_set_x_orig[25:]\n",
    "test_set_y = test_set_y_orig[25:]\n",
    "print(\"Test data shape: \",validation_x.shape)"
   ]
  },
  {
   "cell_type": "code",
   "execution_count": 41,
   "metadata": {},
   "outputs": [],
   "source": [
    "arr = np.arange(1,21)"
   ]
  },
  {
   "cell_type": "code",
   "execution_count": 42,
   "metadata": {},
   "outputs": [
    {
     "name": "stdout",
     "output_type": "stream",
     "text": [
      "[ 1  2  3  4  5  6  7  8  9 10 11 12 13 14 15 16 17 18 19 20]\n"
     ]
    }
   ],
   "source": [
    "print(arr)"
   ]
  },
  {
   "cell_type": "code",
   "execution_count": 44,
   "metadata": {},
   "outputs": [],
   "source": [
    "arr= arr.reshape(2,1,10)"
   ]
  },
  {
   "cell_type": "code",
   "execution_count": 45,
   "metadata": {},
   "outputs": [],
   "source": [
    "arr_squeezed = np.squeeze(arr)"
   ]
  },
  {
   "cell_type": "code",
   "execution_count": 46,
   "metadata": {},
   "outputs": [
    {
     "name": "stdout",
     "output_type": "stream",
     "text": [
      "[[ 1  2  3  4  5  6  7  8  9 10]\n",
      " [11 12 13 14 15 16 17 18 19 20]]\n"
     ]
    }
   ],
   "source": [
    "print(arr_squeezed)"
   ]
  },
  {
   "cell_type": "code",
   "execution_count": 47,
   "metadata": {},
   "outputs": [
    {
     "name": "stdout",
     "output_type": "stream",
     "text": [
      "Classes are:  [b'non-cat' b'cat']\n",
      "Groundtruth stored as:  1\n",
      "cat\n"
     ]
    },
    {
     "data": {
      "text/plain": [
       "<matplotlib.image.AxesImage at 0x7fb3e27d0780>"
      ]
     },
     "execution_count": 47,
     "metadata": {},
     "output_type": "execute_result"
    },
    {
     "data": {
      "image/png": "[encoded data removed]",
      "text/plain": [
       "<Figure size 432x288 with 1 Axes>"
      ]
     },
     "metadata": {
      "needs_background": "light"
     },
     "output_type": "display_data"
    }
   ],
   "source": [
    "classes = np.array(test_dataset[\"list_classes\"][:])\n",
    "\n",
    "print(\"Classes are: \",classes)\n",
    "print(\"Groundtruth stored as: \",train_set_y_orig[2])\n",
    "print(classes[train_set_y_orig[2]].decode('utf-8'))\n",
    "\n",
    "plt.imshow(train_set_x_orig[2])"
   ]
  },
  {
   "cell_type": "code",
   "execution_count": 51,
   "metadata": {},
   "outputs": [
    {
     "name": "stdout",
     "output_type": "stream",
     "text": [
      "train_set_x shape:  (209, 64, 64, 3)\n",
      "train_set_y shape:  (209,)\n"
     ]
    }
   ],
   "source": [
    "print(\"train_set_x shape: \", train_set_x_orig.shape)\n",
    "print(\"train_set_y shape: \", train_set_y_orig.shape)"
   ]
  },
  {
   "cell_type": "code",
   "execution_count": 53,
   "metadata": {},
   "outputs": [
    {
     "name": "stdout",
     "output_type": "stream",
     "text": [
      "Validation data size:  [[[[158 104  83]\n",
      "   [161 106  85]\n",
      "   [162 107  84]\n",
      "   ...\n",
      "   [170 120 100]\n",
      "   [167 121 103]\n",
      "   [172 127 109]]\n",
      "\n",
      "  [[158 103  82]\n",
      "   [160 104  82]\n",
      "   [162 105  83]\n",
      "   ...\n",
      "   [169 118  99]\n",
      "   [164 117  98]\n",
      "   [168 121 104]]\n",
      "\n",
      "  [[158 104  82]\n",
      "   [161 105  82]\n",
      "   [162 105  83]\n",
      "   ...\n",
      "   [173 123 102]\n",
      "   [169 122 104]\n",
      "   [168 122 104]]\n",
      "\n",
      "  ...\n",
      "\n",
      "  [[102  68  52]\n",
      "   [ 44  31  23]\n",
      "   [ 28  23  20]\n",
      "   ...\n",
      "   [163 118 102]\n",
      "   [163 120 103]\n",
      "   [166 121 105]]\n",
      "\n",
      "  [[ 99  67  51]\n",
      "   [ 38  28  22]\n",
      "   [ 30  26  23]\n",
      "   ...\n",
      "   [161 117 100]\n",
      "   [164 121 104]\n",
      "   [168 123 106]]\n",
      "\n",
      "  [[127  95  72]\n",
      "   [ 39  29  22]\n",
      "   [ 30  25  22]\n",
      "   ...\n",
      "   [165 122 105]\n",
      "   [169 126 109]\n",
      "   [173 128 110]]]\n",
      "\n",
      "\n",
      " [[[115 110 111]\n",
      "   [137 129 129]\n",
      "   [155 146 145]\n",
      "   ...\n",
      "   [159 156 157]\n",
      "   [141 141 145]\n",
      "   [121 122 127]]\n",
      "\n",
      "  [[123 118 120]\n",
      "   [143 136 136]\n",
      "   [159 153 150]\n",
      "   ...\n",
      "   [167 164 165]\n",
      "   [151 151 154]\n",
      "   [130 133 137]]\n",
      "\n",
      "  [[135 130 130]\n",
      "   [150 145 141]\n",
      "   [164 159 153]\n",
      "   ...\n",
      "   [173 174 172]\n",
      "   [160 162 162]\n",
      "   [141 144 148]]\n",
      "\n",
      "  ...\n",
      "\n",
      "  [[197 196 205]\n",
      "   [208 209 214]\n",
      "   [215 216 220]\n",
      "   ...\n",
      "   [222 224 229]\n",
      "   [205 208 215]\n",
      "   [185 189 197]]\n",
      "\n",
      "  [[190 192 199]\n",
      "   [203 205 210]\n",
      "   [213 214 218]\n",
      "   ...\n",
      "   [217 220 225]\n",
      "   [198 202 209]\n",
      "   [178 182 191]]\n",
      "\n",
      "  [[183 186 193]\n",
      "   [197 199 205]\n",
      "   [208 210 214]\n",
      "   ...\n",
      "   [212 215 220]\n",
      "   [192 196 203]\n",
      "   [171 176 186]]]\n",
      "\n",
      "\n",
      " [[[255 253 254]\n",
      "   [255 253 254]\n",
      "   [255 253 254]\n",
      "   ...\n",
      "   [197 178 118]\n",
      "   [195 177 116]\n",
      "   [192 176 115]]\n",
      "\n",
      "  [[255 253 254]\n",
      "   [255 253 254]\n",
      "   [255 253 254]\n",
      "   ...\n",
      "   [197 178 120]\n",
      "   [195 176 118]\n",
      "   [193 174 118]]\n",
      "\n",
      "  [[255 253 254]\n",
      "   [255 253 254]\n",
      "   [255 253 254]\n",
      "   ...\n",
      "   [197 177 121]\n",
      "   [194 174 121]\n",
      "   [190 171 122]]\n",
      "\n",
      "  ...\n",
      "\n",
      "  [[ 94  95  97]\n",
      "   [102 104 108]\n",
      "   [115 113 115]\n",
      "   ...\n",
      "   [ 68  67  91]\n",
      "   [ 71  55  80]\n",
      "   [ 64  51  82]]\n",
      "\n",
      "  [[ 68  71  69]\n",
      "   [ 75  79  80]\n",
      "   [ 82  91  91]\n",
      "   ...\n",
      "   [122 103 109]\n",
      "   [114  84  99]\n",
      "   [ 97  72 100]]\n",
      "\n",
      "  [[ 67  86  89]\n",
      "   [ 62  83  90]\n",
      "   [ 47  73  82]\n",
      "   ...\n",
      "   [147 120 125]\n",
      "   [142 110 118]\n",
      "   [133 101 121]]]\n",
      "\n",
      "\n",
      " ...\n",
      "\n",
      "\n",
      " [[[ 64 165  72]\n",
      "   [ 62 156  80]\n",
      "   [ 63 148  66]\n",
      "   ...\n",
      "   [ 26  65  26]\n",
      "   [ 23  64  27]\n",
      "   [ 23  65  28]]\n",
      "\n",
      "  [[ 56 162  54]\n",
      "   [ 56 155  69]\n",
      "   [ 52 141  43]\n",
      "   ...\n",
      "   [ 54  98  68]\n",
      "   [ 50  95  62]\n",
      "   [ 31  83  40]]\n",
      "\n",
      "  [[ 57 147  50]\n",
      "   [ 51 142  58]\n",
      "   [ 44 124  31]\n",
      "   ...\n",
      "   [ 57 106  60]\n",
      "   [ 62 132  63]\n",
      "   [ 68 153  65]]\n",
      "\n",
      "  ...\n",
      "\n",
      "  [[114 192   8]\n",
      "   [124 197  19]\n",
      "   [101 169  26]\n",
      "   ...\n",
      "   [ 25  74  16]\n",
      "   [ 24  65  20]\n",
      "   [ 20  83  21]]\n",
      "\n",
      "  [[109 178  12]\n",
      "   [ 78 142  21]\n",
      "   [ 42 108  23]\n",
      "   ...\n",
      "   [ 48 124  31]\n",
      "   [ 32  78  19]\n",
      "   [ 15  75  17]]\n",
      "\n",
      "  [[ 53 130  11]\n",
      "   [ 22  96   8]\n",
      "   [ 21  89   8]\n",
      "   ...\n",
      "   [ 54 139  33]\n",
      "   [ 48 124  17]\n",
      "   [ 16  71  11]]]\n",
      "\n",
      "\n",
      " [[[255 255 255]\n",
      "   [255 255 255]\n",
      "   [255 255 255]\n",
      "   ...\n",
      "   [255 255 255]\n",
      "   [255 255 255]\n",
      "   [255 255 255]]\n",
      "\n",
      "  [[255 255 255]\n",
      "   [255 255 255]\n",
      "   [255 255 255]\n",
      "   ...\n",
      "   [255 255 255]\n",
      "   [255 255 255]\n",
      "   [255 255 255]]\n",
      "\n",
      "  [[255 255 255]\n",
      "   [255 255 255]\n",
      "   [255 255 255]\n",
      "   ...\n",
      "   [255 255 255]\n",
      "   [255 255 255]\n",
      "   [255 255 255]]\n",
      "\n",
      "  ...\n",
      "\n",
      "  [[111 111 111]\n",
      "   [123 123 123]\n",
      "   [139 139 139]\n",
      "   ...\n",
      "   [ 57  57  57]\n",
      "   [ 75  75  75]\n",
      "   [ 85  85  85]]\n",
      "\n",
      "  [[ 97  97  97]\n",
      "   [114 114 114]\n",
      "   [144 144 144]\n",
      "   ...\n",
      "   [ 72  72  72]\n",
      "   [ 77  77  77]\n",
      "   [ 84  84  84]]\n",
      "\n",
      "  [[ 97  97  97]\n",
      "   [115 115 115]\n",
      "   [142 142 142]\n",
      "   ...\n",
      "   [ 89  89  89]\n",
      "   [ 84  84  84]\n",
      "   [ 71  71  71]]]\n",
      "\n",
      "\n",
      " [[[ 71  72  56]\n",
      "   [ 61  63  49]\n",
      "   [ 94  95  89]\n",
      "   ...\n",
      "   [  1   1   1]\n",
      "   [  1   1   1]\n",
      "   [  1   1   1]]\n",
      "\n",
      "  [[ 64  64  45]\n",
      "   [ 56  58  43]\n",
      "   [ 95  95  90]\n",
      "   ...\n",
      "   [  2   2   1]\n",
      "   [  2   2   2]\n",
      "   [  2   2   1]]\n",
      "\n",
      "  [[ 59  59  41]\n",
      "   [ 53  56  42]\n",
      "   [ 96  96  90]\n",
      "   ...\n",
      "   [  2   2   1]\n",
      "   [  2   2   2]\n",
      "   [  3   3   1]]\n",
      "\n",
      "  ...\n",
      "\n",
      "  [[ 70  53  40]\n",
      "   [ 71  55  41]\n",
      "   [ 71  55  41]\n",
      "   ...\n",
      "   [ 85  63  44]\n",
      "   [ 83  64  48]\n",
      "   [ 69  55  40]]\n",
      "\n",
      "  [[ 68  52  38]\n",
      "   [ 68  52  39]\n",
      "   [ 68  52  39]\n",
      "   ...\n",
      "   [ 69  47  29]\n",
      "   [ 70  52  35]\n",
      "   [ 71  56  38]]\n",
      "\n",
      "  [[ 67  53  39]\n",
      "   [ 66  52  38]\n",
      "   [ 66  51  38]\n",
      "   ...\n",
      "   [ 63  37  18]\n",
      "   [ 65  39  20]\n",
      "   [ 62  40  23]]]]\n",
      "Validation data size:  [1 1 1 1 1 0 1 1 1 1 1 1 1 0 0 1 0 1 1 1 1 0 0 1 1]\n"
     ]
    }
   ],
   "source": [
    "print(\"Validation data size: \", validation_x)\n",
    "print(\"Validation data size: \",validation_y)"
   ]
  },
  {
   "cell_type": "code",
   "execution_count": 54,
   "metadata": {},
   "outputs": [
    {
     "name": "stdout",
     "output_type": "stream",
     "text": [
      "test_set_x shape:  [[[[209 133  53]\n",
      "   [207 130  51]\n",
      "   [181 107  38]\n",
      "   ...\n",
      "   [ 28  16   2]\n",
      "   [ 24  15   2]\n",
      "   [ 20  14   2]]\n",
      "\n",
      "  [[218 142  59]\n",
      "   [216 140  58]\n",
      "   [202 126  50]\n",
      "   ...\n",
      "   [ 29  17   3]\n",
      "   [ 25  15   3]\n",
      "   [ 22  15   3]]\n",
      "\n",
      "  [[227 151  66]\n",
      "   [226 149  64]\n",
      "   [217 139  59]\n",
      "   ...\n",
      "   [ 29  17   4]\n",
      "   [ 25  15   4]\n",
      "   [ 21  14   3]]\n",
      "\n",
      "  ...\n",
      "\n",
      "  [[ 21  11   2]\n",
      "   [ 23  13   3]\n",
      "   [ 26  14   3]\n",
      "   ...\n",
      "   [109  98 103]\n",
      "   [104  94  99]\n",
      "   [102  91  97]]\n",
      "\n",
      "  [[ 21  11   2]\n",
      "   [ 23  13   3]\n",
      "   [ 25  13   4]\n",
      "   ...\n",
      "   [109 100 105]\n",
      "   [103  94  99]\n",
      "   [ 98  90  94]]\n",
      "\n",
      "  [[ 20  11   2]\n",
      "   [ 22  12   3]\n",
      "   [ 23  13   3]\n",
      "   ...\n",
      "   [102  90  95]\n",
      "   [ 97  86  90]\n",
      "   [ 94  84  89]]]\n",
      "\n",
      "\n",
      " [[[247 205 148]\n",
      "   [248 207 149]\n",
      "   [249 209 148]\n",
      "   ...\n",
      "   [116  46   5]\n",
      "   [128  58  10]\n",
      "   [137  66  11]]\n",
      "\n",
      "  [[244 200 143]\n",
      "   [242 199 144]\n",
      "   [234 190 134]\n",
      "   ...\n",
      "   [117  46   5]\n",
      "   [119  50   6]\n",
      "   [124  53   7]]\n",
      "\n",
      "  [[240 193 137]\n",
      "   [239 193 138]\n",
      "   [208 154 100]\n",
      "   ...\n",
      "   [115  45   4]\n",
      "   [118  48   4]\n",
      "   [126  56   5]]\n",
      "\n",
      "  ...\n",
      "\n",
      "  [[197 142  91]\n",
      "   [196 144  92]\n",
      "   [202 153  96]\n",
      "   ...\n",
      "   [111  69  17]\n",
      "   [113  69  15]\n",
      "   [123  77  27]]\n",
      "\n",
      "  [[195 139  89]\n",
      "   [194 141  91]\n",
      "   [201 151  95]\n",
      "   ...\n",
      "   [114  71  24]\n",
      "   [116  71  20]\n",
      "   [121  76  28]]\n",
      "\n",
      "  [[188 134  85]\n",
      "   [194 140  91]\n",
      "   [200 150  95]\n",
      "   ...\n",
      "   [120  75  29]\n",
      "   [116  71  22]\n",
      "   [120  75  29]]]\n",
      "\n",
      "\n",
      " [[[ 44  71  41]\n",
      "   [ 78  99  74]\n",
      "   [104 125 102]\n",
      "   ...\n",
      "   [135 186 106]\n",
      "   [ 80 136  58]\n",
      "   [112 157  79]]\n",
      "\n",
      "  [[ 76  98  76]\n",
      "   [105 125 100]\n",
      "   [123 143 107]\n",
      "   ...\n",
      "   [112 170  83]\n",
      "   [113 165  91]\n",
      "   [112 158  88]]\n",
      "\n",
      "  [[108 129 102]\n",
      "   [108 132  95]\n",
      "   [114 140 102]\n",
      "   ...\n",
      "   [ 97 156  71]\n",
      "   [161 198 132]\n",
      "   [118 164 104]]\n",
      "\n",
      "  ...\n",
      "\n",
      "  [[163 188 147]\n",
      "   [167 193 153]\n",
      "   [152 183 135]\n",
      "   ...\n",
      "   [ 99 135  78]\n",
      "   [137 168 122]\n",
      "   [102 138  88]]\n",
      "\n",
      "  [[153 178 140]\n",
      "   [156 182 140]\n",
      "   [151 180 132]\n",
      "   ...\n",
      "   [105 137  82]\n",
      "   [135 163 130]\n",
      "   [ 83 120  75]]\n",
      "\n",
      "  [[144 168 130]\n",
      "   [148 174 131]\n",
      "   [161 187 143]\n",
      "   ...\n",
      "   [116 146  93]\n",
      "   [ 98 131  92]\n",
      "   [ 59 100  45]]]\n",
      "\n",
      "\n",
      " ...\n",
      "\n",
      "\n",
      " [[[ 41  47  84]\n",
      "   [ 72  78 112]\n",
      "   [103 102 124]\n",
      "   ...\n",
      "   [125 112 119]\n",
      "   [107 101 117]\n",
      "   [ 76  79 109]]\n",
      "\n",
      "  [[ 93  96 119]\n",
      "   [112 109 124]\n",
      "   [130 122 136]\n",
      "   ...\n",
      "   [141 121 118]\n",
      "   [130 112 114]\n",
      "   [122 109 117]]\n",
      "\n",
      "  [[119 114 123]\n",
      "   [133 124 128]\n",
      "   [164 149 145]\n",
      "   ...\n",
      "   [187 160 135]\n",
      "   [157 132 120]\n",
      "   [136 115 109]]\n",
      "\n",
      "  ...\n",
      "\n",
      "  [[233 223 207]\n",
      "   [235 226 218]\n",
      "   [242 236 235]\n",
      "   ...\n",
      "   [164 170 196]\n",
      "   [189 185 196]\n",
      "   [190 182 188]]\n",
      "\n",
      "  [[247 250 248]\n",
      "   [236 238 232]\n",
      "   [219 215 219]\n",
      "   ...\n",
      "   [118 101 117]\n",
      "   [153 134 154]\n",
      "   [174 146 156]]\n",
      "\n",
      "  [[253 254 254]\n",
      "   [246 250 249]\n",
      "   [226 233 234]\n",
      "   ...\n",
      "   [154 111  93]\n",
      "   [176 132 104]\n",
      "   [183 141 116]]]\n",
      "\n",
      "\n",
      " [[[ 18  18  16]\n",
      "   [ 35  36  31]\n",
      "   [ 54  57  52]\n",
      "   ...\n",
      "   [138 140 118]\n",
      "   [139 141 124]\n",
      "   [130 129 114]]\n",
      "\n",
      "  [[ 21  21  18]\n",
      "   [ 44  45  39]\n",
      "   [ 68  74  66]\n",
      "   ...\n",
      "   [128 131 109]\n",
      "   [116 117  98]\n",
      "   [ 95  93  76]]\n",
      "\n",
      "  [[ 30  31  26]\n",
      "   [ 54  58  52]\n",
      "   [ 99 110 104]\n",
      "   ...\n",
      "   [127 129 108]\n",
      "   [113 114  94]\n",
      "   [ 99  99  82]]\n",
      "\n",
      "  ...\n",
      "\n",
      "  [[178 178 163]\n",
      "   [161 163 146]\n",
      "   [170 174 163]\n",
      "   ...\n",
      "   [112 108  85]\n",
      "   [149 150 131]\n",
      "   [180 185 172]]\n",
      "\n",
      "  [[182 183 167]\n",
      "   [172 175 162]\n",
      "   [170 173 162]\n",
      "   ...\n",
      "   [ 88  90  77]\n",
      "   [122 115  89]\n",
      "   [157 154 131]]\n",
      "\n",
      "  [[188 190 179]\n",
      "   [173 175 163]\n",
      "   [160 162 146]\n",
      "   ...\n",
      "   [ 48  50  44]\n",
      "   [103 103  89]\n",
      "   [144 137 108]]]\n",
      "\n",
      "\n",
      " [[[133 163  75]\n",
      "   [ 98 120  44]\n",
      "   [108 132  47]\n",
      "   ...\n",
      "   [ 96 138  97]\n",
      "   [ 96 146 109]\n",
      "   [ 81 132 101]]\n",
      "\n",
      "  [[ 79 102  39]\n",
      "   [ 83 112  33]\n",
      "   [ 76 106  26]\n",
      "   ...\n",
      "   [ 99 149  76]\n",
      "   [ 71 119  62]\n",
      "   [ 58 106  72]]\n",
      "\n",
      "  [[ 35  53  27]\n",
      "   [ 54  74  46]\n",
      "   [ 35  55  17]\n",
      "   ...\n",
      "   [110 157 122]\n",
      "   [ 72 119  89]\n",
      "   [ 81 131 108]]\n",
      "\n",
      "  ...\n",
      "\n",
      "  [[ 76 108  79]\n",
      "   [ 70 110  83]\n",
      "   [ 70 105  84]\n",
      "   ...\n",
      "   [ 25  49  21]\n",
      "   [ 26  53  24]\n",
      "   [ 27  54  28]]\n",
      "\n",
      "  [[109 120  97]\n",
      "   [ 86 116  86]\n",
      "   [ 71 105  79]\n",
      "   ...\n",
      "   [ 17  46  20]\n",
      "   [ 23  49  28]\n",
      "   [ 19  33  18]]\n",
      "\n",
      "  [[ 97 117 100]\n",
      "   [ 70 108  75]\n",
      "   [ 75  99  69]\n",
      "   ...\n",
      "   [  8  33  12]\n",
      "   [ 13  35  18]\n",
      "   [  5  22   5]]]]\n",
      "test_set_y shape:  [1 1 0 1 0 1 1 1 1 0 0 0 1 0 0 1 1 1 0 0 0 1 1 1 0]\n"
     ]
    }
   ],
   "source": [
    "print(\"test_set_x shape: \", test_set_x)\n",
    "print(\"test_set_y shape: \", test_set_y)"
   ]
  },
  {
   "cell_type": "code",
   "execution_count": 65,
   "metadata": {
    "scrolled": true
   },
   "outputs": [],
   "source": [
    "train_set_x_flatten = train_set_x_orig.reshape(train_set_x_orig.shape[0], -1).T\n",
    "validation_x_flatten = validation_x.reshape(validation_x.shape[0], -1).T\n",
    "test_set_x_flatten = test_set_x.reshape(test_set_x.shape[0], -1).T"
   ]
  },
  {
   "cell_type": "code",
   "execution_count": 66,
   "metadata": {},
   "outputs": [
    {
     "name": "stdout",
     "output_type": "stream",
     "text": [
      "train_set_x_flatten shape:  (12288, 209)\n",
      "train_set_y shape:  (209,)\n",
      "validation_x_flatten shape:  (25, 64, 64, 3)\n",
      "validation_y shape:  (25,)\n",
      "test_set_x_flatten shape:  (25, 64, 64, 3)\n",
      "test_set_y shape:  (25,)\n"
     ]
    }
   ],
   "source": [
    "print (\"train_set_x_flatten shape: \", train_set_x_flatten.shape)\n",
    "print (\"train_set_y shape: \", train_set_y_orig.shape)\n",
    "\n",
    "print (\"validation_x_flatten shape: \", validation_x.shape)\n",
    "print (\"validation_y shape: \", validation_y.shape)\n",
    "\n",
    "print (\"test_set_x_flatten shape: \", test_set_x.shape)\n",
    "print (\"test_set_y shape: \",test_set_y.shape)"
   ]
  },
  {
   "cell_type": "code",
   "execution_count": 71,
   "metadata": {},
   "outputs": [
    {
     "name": "stdout",
     "output_type": "stream",
     "text": [
      "Original Min value:  0\n",
      "Original Max value:  255\n"
     ]
    }
   ],
   "source": [
    "print(\"Original Min value: \",train_set_x_flatten.reshape(1,-1).min())\n",
    "print(\"Original Max value: \",train_set_x_flatten.reshape(1,-1).max())"
   ]
  },
  {
   "cell_type": "code",
   "execution_count": 73,
   "metadata": {},
   "outputs": [],
   "source": [
    "train_set_x = train_set_x_flatten / 255.\n",
    "validation_set_x = validation_x_flatten / 255.\n",
    "test_set_x = test_set_x_flatten / 255."
   ]
  },
  {
   "cell_type": "code",
   "execution_count": 74,
   "metadata": {},
   "outputs": [
    {
     "name": "stdout",
     "output_type": "stream",
     "text": [
      "Standardized Min value:  0.0\n",
      "Standardized Max value:  1.0\n"
     ]
    }
   ],
   "source": [
    "print(\"Standardized Min value: \",train_set_x.reshape(1,-1).min())\n",
    "print(\"Standardized Max value: \",train_set_x.reshape(1,-1).max())"
   ]
  },
  {
   "cell_type": "code",
   "execution_count": 82,
   "metadata": {},
   "outputs": [],
   "source": [
    "def sigmoid(z):\n",
    "    s = 1 / (1 + np.exp(-z))\n",
    "    return s"
   ]
  },
  {
   "cell_type": "code",
   "execution_count": 83,
   "metadata": {},
   "outputs": [],
   "source": [
    "z = np.linspace(-10,10,2000000)"
   ]
  },
  {
   "cell_type": "code",
   "execution_count": 84,
   "metadata": {},
   "outputs": [],
   "source": [
    "sigmoid_z = sigmoid(z)"
   ]
  },
  {
   "cell_type": "code",
   "execution_count": 85,
   "metadata": {},
   "outputs": [
    {
     "data": {
      "image/png": "[encoded data removed]",
      "text/plain": [
       "<Figure size 432x288 with 1 Axes>"
      ]
     },
     "metadata": {
      "needs_background": "light"
     },
     "output_type": "display_data"
    }
   ],
   "source": [
    "plt.plot(z, sigmoid_z) \n",
    "plt.xlabel(\"z\") \n",
    "plt.ylabel(\"Sigmoid(z)\") \n",
    "plt.show()"
   ]
  },
  {
   "cell_type": "code",
   "execution_count": 98,
   "metadata": {},
   "outputs": [
    {
     "name": "stdout",
     "output_type": "stream",
     "text": [
      "[[[0.80147575 0.99761257]\n",
      "  [0.65167714 0.45954979]]\n",
      "\n",
      " [[0.59417783 0.79353958]\n",
      "  [0.2906972  0.89934014]]]\n"
     ]
    }
   ],
   "source": [
    "random_3d_array = np.random.rand(2,2,2)\n",
    "print(random_3d_array)"
   ]
  },
  {
   "cell_type": "code",
   "execution_count": 100,
   "metadata": {},
   "outputs": [],
   "source": [
    "def initialize_weights(dim):\n",
    "    np.random.seed(0)\n",
    "    w = np.random.rand(dim, 1)\n",
    "    b = 0    \n",
    "    return w, b"
   ]
  },
  {
   "cell_type": "code",
   "execution_count": 101,
   "metadata": {},
   "outputs": [
    {
     "name": "stdout",
     "output_type": "stream",
     "text": [
      "Weights:  [[0.5488135 ]\n",
      " [0.71518937]]\n",
      "Biases:  0\n"
     ]
    }
   ],
   "source": [
    "dim = 2\n",
    "w, b = initialize_weights(dim)\n",
    "\n",
    "print(\"Weights: \",w)\n",
    "print(\"Biases: \", b)"
   ]
  },
  {
   "cell_type": "code",
   "execution_count": 109,
   "metadata": {},
   "outputs": [],
   "source": [
    "x=[1,2,3]"
   ]
  },
  {
   "cell_type": "code",
   "execution_count": 110,
   "metadata": {},
   "outputs": [
    {
     "data": {
      "text/plain": [
       "list"
      ]
     },
     "execution_count": 110,
     "metadata": {},
     "output_type": "execute_result"
    }
   ],
   "source": [
    "type(x)"
   ]
  },
  {
   "cell_type": "code",
   "execution_count": 111,
   "metadata": {},
   "outputs": [],
   "source": [
    "x_log = np.log(x)\n"
   ]
  },
  {
   "cell_type": "code",
   "execution_count": 114,
   "metadata": {},
   "outputs": [
    {
     "name": "stdout",
     "output_type": "stream",
     "text": [
      "[[ 70 100]\n",
      " [150 220]]\n"
     ]
    }
   ],
   "source": [
    "a = np.array([[1,2],[3,4]]) \n",
    "b = np.array([[10,20],[30,40]]) \n",
    "\n",
    "c = np.dot(a,b)\n",
    "print(c)"
   ]
  },
  {
   "cell_type": "code",
   "execution_count": 116,
   "metadata": {},
   "outputs": [],
   "source": [
    "\n",
    "ones_array = np.ones(shape=(4,4))"
   ]
  },
  {
   "cell_type": "code",
   "execution_count": 117,
   "metadata": {},
   "outputs": [],
   "source": [
    "sum_of_ones_array = np.sum(ones_array)"
   ]
  },
  {
   "cell_type": "code",
   "execution_count": 118,
   "metadata": {},
   "outputs": [],
   "source": [
    "def forward_prop(w, b, X, Y):\n",
    "\n",
    "    # calculate activations\n",
    "    z = np.dot(w.T, X) + b\n",
    "    A = sigmoid(z)\n",
    "\n",
    "    # calculate cost\n",
    "    m = X.shape[1]\n",
    "    cost = (-1/m) * np.sum(Y * np.log(A) + (1-Y) * (np.log(1-A)))\n",
    "    cost = np.squeeze(cost)\n",
    "\n",
    "    return A, cost"
   ]
  },
  {
   "cell_type": "code",
   "execution_count": 131,
   "metadata": {},
   "outputs": [],
   "source": [
    "def back_prop(X, A, Y):\n",
    "\n",
    "    # calculate gradients for w,b\n",
    "    m = X.shape[1]\n",
    "    dw = (1/m) * np.dot(X, (A-Y).T)\n",
    "    db = (1/m) * np.sum(A-Y)\n",
    "\n",
    "    grads = {'dw': dw, 'db': db}\n",
    "\n",
    "    return grads"
   ]
  },
  {
   "cell_type": "code",
   "execution_count": 136,
   "metadata": {},
   "outputs": [],
   "source": [
    "def propagate(w, b, X, Y):\n",
    "\n",
    "    #Forward propagation\n",
    "    A, cost = forward_prop(w, b, X, Y)\n",
    "\n",
    "    #Backward propagation\n",
    "    grads = back_prop(X, A, Y)\n",
    "\n",
    "    return grads, cost"
   ]
  },
  {
   "cell_type": "code",
   "execution_count": 137,
   "metadata": {},
   "outputs": [],
   "source": [
    "w, b, X, Y = np.array([[1], [2]]), 2, np.array([[1,2], [3,4]]), np.array([[1, 0]])\n",
    "grads, cost = propagate(w, b, X, Y)"
   ]
  },
  {
   "cell_type": "code",
   "execution_count": 144,
   "metadata": {},
   "outputs": [],
   "source": [
    "def predict(w, b, X):\n",
    "    m = X.shape[1]\n",
    "    Y_prediction = np.zeros((1, m))\n",
    "    w = w.reshape(X.shape[0], 1)\n",
    "\n",
    "    #Compute probability vector\n",
    "    A = sigmoid(np.dot(w.T, X) + b)\n",
    "\n",
    "    for i in range(A.shape[1]):\n",
    "        Y_prediction[0, i] = 1 if A[0, i] > 0.5 else 0\n",
    "\n",
    "    return Y_prediction"
   ]
  },
  {
   "cell_type": "code",
   "execution_count": 148,
   "metadata": {},
   "outputs": [
    {
     "name": "stdout",
     "output_type": "stream",
     "text": [
      "y_actual : [1 1 1 0 1]\n",
      "y_predicted : [1 0 0 0 1]\n"
     ]
    }
   ],
   "source": [
    "y_actual = np.array([1,1,1,0,1])\n",
    "print(\"y_actual :\", y_actual )\n",
    "\n",
    "y_predicted = np.array([1,0,0,0,1])\n",
    "print(\"y_predicted :\", y_predicted )"
   ]
  },
  {
   "cell_type": "code",
   "execution_count": 149,
   "metadata": {},
   "outputs": [],
   "source": [
    "c = np.abs(y_actual - y_predicted)"
   ]
  },
  {
   "cell_type": "code",
   "execution_count": 150,
   "metadata": {},
   "outputs": [],
   "source": [
    "c_mean = np.mean(c)"
   ]
  },
  {
   "cell_type": "code",
   "execution_count": 151,
   "metadata": {},
   "outputs": [],
   "source": [
    "accuracy = 100 - (c_mean * 100)"
   ]
  },
  {
   "cell_type": "code",
   "execution_count": 152,
   "metadata": {},
   "outputs": [],
   "source": [
    "def get_accuracies(Y_predicted, Y_actual):\n",
    "    abs_diff = np.abs(Y_predicted - Y_actual)\n",
    "    accuracy = 100 - np.mean(abs_diff) * 100\n",
    "    return accuracy"
   ]
  },
  {
   "cell_type": "code",
   "execution_count": 159,
   "metadata": {},
   "outputs": [],
   "source": [
    "def optimize(w, b, X, Y, X_val, Y_val, num_iterations, learning_rate):\n",
    "    prev_train_acc=0\n",
    "    prev_val_acc=0\n",
    "    costs=[]\n",
    "    epoch=0\n",
    "    final_w = w\n",
    "    final_b = b\n",
    "\n",
    "    for i in range(num_iterations):\n",
    "\n",
    "        # Call Propagate function to get Cost and gradients\n",
    "        grads, cost = propagate(w, b, X, Y)\n",
    "        costs.append(cost)\n",
    "\n",
    "        # Get derivatives\n",
    "        dw = grads['dw']\n",
    "        db = grads['db']\n",
    "\n",
    "        # Update rule\n",
    "        w = w - learning_rate * dw\n",
    "        b = b - learning_rate * db\n",
    "\n",
    "        # Predict labels for train and validation sets        \n",
    "        Y_prediction_train =predict(w, b, X)\n",
    "        Y_prediction_val =  predict(w, b, X_val)\n",
    "\n",
    "        # Get accuracies for the train and validation predictions\n",
    "        train_acc =  get_accuracies(Y_prediction_train , Y)\n",
    "        val_acc =  get_accuracies(Y_prediction_val, Y_val)\n",
    "\n",
    "        if val_acc > prev_val_acc and train_acc>=val_acc:\n",
    "            print(\"*****************************\")\n",
    "            print(\"Epoch - {} - train accuracy: {} %\".format(i,train_acc))\n",
    "            print(\"Epoch - {} - val accuracy: {} %\".format(i,val_acc))\n",
    "            print(\"!!!!!!!!!!!!!!!!!!!!!!!!!!!!!!!\")\n",
    "            prev_train_acc = train_acc\n",
    "            prev_val_acc = val_acc\n",
    "            epoch = i\n",
    "            final_w = w\n",
    "            final_b = b\n",
    "\n",
    "    params = {'w': w, 'b': b}\n",
    "    grads = {'dw': dw, 'db': db}\n",
    "\n",
    "    optimal_values = {\n",
    "        'costs': costs,\n",
    "        'final w':final_w,\n",
    "        'final b':final_b,\n",
    "        'epoch':epoch,\n",
    "        'Train accuracy':prev_train_acc,\n",
    "        'Validation accuracy': prev_val_acc,\n",
    "        'Y_prediction_val': Y_prediction_val,\n",
    "        'Y_prediction_train': Y_prediction_train,\n",
    "        'params':params,\n",
    "        'grads':grads,\n",
    "    }\n",
    "\n",
    "    return optimal_values"
   ]
  },
  {
   "cell_type": "code",
   "execution_count": 163,
   "metadata": {},
   "outputs": [],
   "source": [
    "def  model(X_train, Y_train, X_val, Y_val, num_iterations=2000, learning_rate=[0.5]):\n",
    "    prev_train_acc=0\n",
    "    prev_val_acc=0\n",
    "\n",
    "    #  Initialize weights and bias \n",
    "    w, b = initialize_weights(X_train.shape[0])\n",
    "\n",
    "    best_values = {\n",
    "        'final w':w,\n",
    "        'final b':b,\n",
    "        'Train accuracy':prev_train_acc,\n",
    "        'Validation accuracy': prev_val_acc,\n",
    "     }\n",
    "\n",
    "\n",
    "    for lr in learning_rate:\n",
    "        print((\"-\"*30 + \"learning_rate:{}\"+\"-\"*30).format(lr))\n",
    "\n",
    "        # Initialize weights and bias\n",
    "        w, b = initialize_weights(X_train.shape[0])\n",
    "\n",
    "\n",
    "        # Optimization\n",
    "        lr_optimal_values = optimize(w, b, X_train, Y_train, X_val, Y_val, num_iterations, lr)\n",
    "        if lr_optimal_values['Validation accuracy']>prev_val_acc:\n",
    "            prev_val_acc = lr_optimal_values['Validation accuracy']\n",
    "            prev_train_acc = lr_optimal_values['Train accuracy']\n",
    "            final_lr = lr\n",
    "            final_w = lr_optimal_values['final w']\n",
    "            final_b = lr_optimal_values['final b']\n",
    "            final_epoch = lr_optimal_values['epoch']\n",
    "            final_Y_prediction_val = lr_optimal_values['Y_prediction_val']\n",
    "            final_Y_prediction_train = lr_optimal_values['Y_prediction_train']\n",
    "\n",
    "    best_values['Train accuracy'] = prev_train_acc\n",
    "    best_values['Validation accuracy'] = prev_val_acc\n",
    "    best_values['final_lr'] = final_lr\n",
    "    best_values['final w'] = final_w\n",
    "    best_values['final b'] = final_b\n",
    "    best_values['epoch'] = final_epoch\n",
    "    best_values['Y_prediction_val'] = final_Y_prediction_val\n",
    "    best_values['Y_prediction_train'] = final_Y_prediction_train\n",
    "\n",
    "    return best_values"
   ]
  },
  {
   "cell_type": "code",
   "execution_count": 169,
   "metadata": {},
   "outputs": [
    {
     "name": "stdout",
     "output_type": "stream",
     "text": [
      "------------------------------learning_rate:0.1------------------------------\n",
      "*****************************\n",
      "Epoch - 18 - train accuracy: 62.67942583732057 %\n",
      "Epoch - 18 - val accuracy: 36.0 %\n",
      "!!!!!!!!!!!!!!!!!!!!!!!!!!!!!!!\n",
      "*****************************\n",
      "Epoch - 20 - train accuracy: 62.20095693779905 %\n",
      "Epoch - 20 - val accuracy: 48.0 %\n",
      "!!!!!!!!!!!!!!!!!!!!!!!!!!!!!!!\n",
      "*****************************\n",
      "Epoch - 22 - train accuracy: 62.20095693779905 %\n",
      "Epoch - 22 - val accuracy: 60.0 %\n",
      "!!!!!!!!!!!!!!!!!!!!!!!!!!!!!!!\n",
      "*****************************\n",
      "Epoch - 63 - train accuracy: 74.16267942583733 %\n",
      "Epoch - 63 - val accuracy: 72.0 %\n",
      "!!!!!!!!!!!!!!!!!!!!!!!!!!!!!!!\n",
      "*****************************\n",
      "Epoch - 68 - train accuracy: 76.55502392344498 %\n",
      "Epoch - 68 - val accuracy: 76.0 %\n",
      "!!!!!!!!!!!!!!!!!!!!!!!!!!!!!!!\n"
     ]
    },
    {
     "name": "stderr",
     "output_type": "stream",
     "text": [
      "/usr/local/anaconda/lib/python3.6/site-packages/ipykernel_launcher.py:9: RuntimeWarning: divide by zero encountered in log\n",
      "  if __name__ == '__main__':\n",
      "/usr/local/anaconda/lib/python3.6/site-packages/ipykernel_launcher.py:9: RuntimeWarning: invalid value encountered in multiply\n",
      "  if __name__ == '__main__':\n"
     ]
    },
    {
     "name": "stdout",
     "output_type": "stream",
     "text": [
      "*****************************\n",
      "Epoch - 156 - train accuracy: 87.5598086124402 %\n",
      "Epoch - 156 - val accuracy: 80.0 %\n",
      "!!!!!!!!!!!!!!!!!!!!!!!!!!!!!!!\n",
      "*****************************\n",
      "Epoch - 212 - train accuracy: 87.5598086124402 %\n",
      "Epoch - 212 - val accuracy: 84.0 %\n",
      "!!!!!!!!!!!!!!!!!!!!!!!!!!!!!!!\n",
      "------------------------------learning_rate:0.0001------------------------------\n",
      "------------------------------learning_rate:0.001------------------------------\n",
      "------------------------------learning_rate:0.005------------------------------\n",
      "*****************************\n",
      "Epoch - 839 - train accuracy: 72.2488038277512 %\n",
      "Epoch - 839 - val accuracy: 72.0 %\n",
      "!!!!!!!!!!!!!!!!!!!!!!!!!!!!!!!\n",
      "*****************************\n",
      "Epoch - 1356 - train accuracy: 81.33971291866028 %\n",
      "Epoch - 1356 - val accuracy: 80.0 %\n",
      "!!!!!!!!!!!!!!!!!!!!!!!!!!!!!!!\n"
     ]
    }
   ],
   "source": [
    "learning_rate = [0.1,0.0001,0.001,0.005]\n",
    "num_iterations = 2000\n",
    "best_values = model(train_set_x,train_set_y_orig,validation_set_x,validation_y,num_iterations,learning_rate)"
   ]
  },
  {
   "cell_type": "code",
   "execution_count": 172,
   "metadata": {},
   "outputs": [],
   "source": [
    "Y_prediction_test = predict(best_values['final w'], best_values['final b'], test_set_x)"
   ]
  },
  {
   "cell_type": "code",
   "execution_count": 173,
   "metadata": {},
   "outputs": [
    {
     "name": "stdout",
     "output_type": "stream",
     "text": [
      "Test accuracy is:  80.0\n"
     ]
    }
   ],
   "source": [
    "test_acc = get_accuracies(test_set_y, Y_prediction_test)\n",
    "print(\"Test accuracy is: \",test_acc)"
   ]
  },
  {
   "cell_type": "code",
   "execution_count": 174,
   "metadata": {},
   "outputs": [
    {
     "name": "stdout",
     "output_type": "stream",
     "text": [
      "Final best model:\n",
      "For Learning rate: 0.1 , Epoch -  212\n",
      "Train accuracy:  87.5598086124402\n",
      "Validation accuracy:  84.0\n",
      "Test accuracy is:  80.0\n"
     ]
    }
   ],
   "source": [
    "print(\"Final best model:\")\n",
    "print(\"For Learning rate:\" ,best_values['final_lr'], \", Epoch - \",best_values['epoch'])\n",
    "print(\"Train accuracy: \", best_values['Train accuracy'])\n",
    "print(\"Validation accuracy: \",best_values['Validation accuracy'])\n",
    "print(\"Test accuracy is: \",test_acc)"
   ]
  },
  {
   "cell_type": "code",
   "execution_count": null,
   "metadata": {},
   "outputs": [],
   "source": []
  }
 ],
 "metadata": {
  "kernelspec": {
   "display_name": "Python 3",
   "language": "python",
   "name": "python3"
  },
  "language_info": {
   "codemirror_mode": {
    "name": "ipython",
    "version": 3
   },
   "file_extension": ".py",
   "mimetype": "text/x-python",
   "name": "python",
   "nbconvert_exporter": "python",
   "pygments_lexer": "ipython3",
   "version": "3.6.8"
  },
  "toc": {
   "base_numbering": 1,
   "nav_menu": {},
   "number_sections": true,
   "sideBar": true,
   "skip_h1_title": false,
   "title_cell": "Table of Contents",
   "title_sidebar": "Contents",
   "toc_cell": false,
   "toc_position": {},
   "toc_section_display": true,
   "toc_window_display": false
  }
 },
 "nbformat": 4,
 "nbformat_minor": 2
}
